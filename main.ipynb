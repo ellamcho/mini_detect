{
 "cells": [
  {
   "cell_type": "markdown",
   "id": "04d8dcc1",
   "metadata": {},
   "source": [
    "# Mini Detection\n",
    "This mini detection algorithm allows you to visually fine-tune detection parameters for each recording\n",
    "\n",
    "**What you need:** \n",
    "1. Each recording consists of one folder with all of the sweeps (.mat files)\n",
    "2. For blind detection, each recording's condition should be recorded on the metadata csv (see Github for template)\n",
    "\n",
    "**What you'll get:**\n",
    "1. A JSON file of all the parameters you used for each cell for future reference\n",
    "2. The avg mini amplitude per cell recording\n",
    "3. The mini Hz per cell recording\n",
    "4. csvs separated by condition and also combined with the information from 2 and 3"
   ]
  },
  {
   "cell_type": "markdown",
   "id": "465c102e",
   "metadata": {},
   "source": [
    "# Parameter Tuning"
   ]
  },
  {
   "cell_type": "code",
   "execution_count": null,
   "id": "003d7247",
   "metadata": {},
   "outputs": [],
   "source": [
    "# Import tuner\n",
    "import param_tune\n",
    "from param_tune import ParameterTuner\n",
    "\n",
    "# Specify folder with data and the mode (EPSC or IPSC)\n",
    "parent_folder = ''  # Update this path\n",
    "tuner = ParameterTuner(parent_folder, mode='EPSC')\n",
    "\n",
    "# Define parameter sets to test\n",
    "# Format: (window_size, sample_step, interval)\n",
    "parameter_sets = [\n",
    "    (150, 50, 25),  # Default EPSC parameters\n",
    "     (125, 25, 15),   # Smaller windows, more sensitive\n",
    "    # (300, 50, 70),  # Larger windows, less sensitive\n",
    "    (125, 35, 20)   # fast sensitivity\n",
    "]\n",
    "\n",
    "# Test parameters on a specific cell\n",
    "cell_name = \"cell_name\"   # Replace with actual cell name\n",
    "results = tuner.sample_and_test(cell_name, parameter_sets, n_files=3, visualize=True)"
   ]
  },
  {
   "cell_type": "code",
   "execution_count": null,
   "id": "10ae6d27",
   "metadata": {},
   "outputs": [],
   "source": [
    "# Save optimal parameters for cells after testing\n",
    "tuner.save_parameters(\"cell_name\", window_size=150, sample_step=50, interval=25)\n",
    "\n",
    "# Specify output dir\n",
    "output_dir = \"\"\n",
    "\n",
    "# Export parameters to JSON file for later use\n",
    "tuner.export_parameters(\"optimized_parameters.json\", output_dir)"
   ]
  },
  {
   "cell_type": "markdown",
   "id": "12944c6a",
   "metadata": {},
   "source": [
    "# Detection"
   ]
  },
  {
   "cell_type": "code",
   "execution_count": null,
   "id": "50dd76aa",
   "metadata": {},
   "outputs": [],
   "source": [
    "# Run full detection with optimized parameters\n",
    "optimized_results = tuner.run_full_detection(output_dir = output_dir)"
   ]
  },
  {
   "cell_type": "markdown",
   "id": "d973f544",
   "metadata": {},
   "source": [
    "# Group & Export Data"
   ]
  },
  {
   "cell_type": "code",
   "execution_count": null,
   "id": "28ae22f3",
   "metadata": {},
   "outputs": [],
   "source": [
    "# Import metadata file\n",
    "import pandas as pd\n",
    "\n",
    "metadata = pd.read_csv('metadata.csv')\n",
    "\n",
    "# Examine metadata structure\n",
    "print(\"Metadata columns:\", metadata.columns.tolist())\n",
    "print(\"\\nFirst few rows of metadata:\")\n",
    "print(metadata.head())\n",
    "print(\"\\nUnique values in each column:\")\n",
    "for col in metadata.columns:\n",
    "    print(f\"{col}: {metadata[col].unique()}\")\n",
    "print(f\"\\nMetadata shape: {metadata.shape}\")"
   ]
  },
  {
   "cell_type": "code",
   "execution_count": null,
   "id": "4009f274",
   "metadata": {},
   "outputs": [],
   "source": [
    "import functions\n",
    "\n",
    "# Separate data by groups defined by metadata\n",
    "grouped_data, ungrouped = functions.separate_data_by_groups(optimized_results, metadata, \n",
    "                                                 cell_id_col='Cell', \n",
    "                                                 group_col='Condition')"
   ]
  },
  {
   "cell_type": "code",
   "execution_count": null,
   "id": "6083ab75",
   "metadata": {},
   "outputs": [],
   "source": [
    "# Export grouped data to separate CSV files\n",
    "\n",
    "from functions import export_data, avg_amp_per_cell, hz_per_cell\n",
    "\n",
    "# Specify date\n",
    "date = '2025XXXX'\n",
    "\n",
    "# Ensure output_dir has trailing slash\n",
    "if not output_dir.endswith('/'):\n",
    "    output_dir = output_dir + '/'\n",
    "\n",
    "# Prepare data for export\n",
    "condition_labels = []\n",
    "amplitude_data = []\n",
    "frequency_data = []\n",
    "detection_data_list = []\n",
    "\n",
    "for group_name, group_results in grouped_data.items():\n",
    "    condition_labels.append(group_name)\n",
    "    \n",
    "    # Calculate amplitudes and frequencies for this group\n",
    "    group_amplitudes = avg_amp_per_cell(group_results)\n",
    "    group_frequencies = hz_per_cell(group_results)\n",
    "    \n",
    "    amplitude_data.append(group_amplitudes)\n",
    "    frequency_data.append(group_frequencies)\n",
    "    detection_data_list.append(group_results)\n",
    "\n",
    "# Export amplitudes\n",
    "export_data(\n",
    "    condition_labels=condition_labels,\n",
    "    big_data=amplitude_data,\n",
    "    data_type='Amplitude',\n",
    "    date=date,\n",
    "    output_dir=output_dir,\n",
    "    detected_data_list=detection_data_list\n",
    ")\n",
    "\n",
    "# Export frequencies\n",
    "export_data(\n",
    "    condition_labels=condition_labels,\n",
    "    big_data=frequency_data,\n",
    "    data_type='Frequency',\n",
    "    date=date,\n",
    "    output_dir=output_dir,\n",
    "    detected_data_list=detection_data_list\n",
    ")\n",
    "\n",
    "print(\"\\n=== Export Summary ===\")\n",
    "print(f\"Exported data for {len(condition_labels)} groups:\")\n",
    "for i, label in enumerate(condition_labels):\n",
    "    print(f\"  {label}: {len(amplitude_data[i])} cells\")\n",
    "print(f\"\\nFiles saved to: {output_dir}\")\n",
    "print(\"Created files:\")\n",
    "print(\"  - Individual group CSV files for amplitudes and frequencies\")\n",
    "print(\"  - Combined CSV files with all groups together\")"
   ]
  }
 ],
 "metadata": {
  "kernelspec": {
   "display_name": "NB240",
   "language": "python",
   "name": "python3"
  },
  "language_info": {
   "codemirror_mode": {
    "name": "ipython",
    "version": 3
   },
   "file_extension": ".py",
   "mimetype": "text/x-python",
   "name": "python",
   "nbconvert_exporter": "python",
   "pygments_lexer": "ipython3",
   "version": "3.12.9"
  }
 },
 "nbformat": 4,
 "nbformat_minor": 5
}
